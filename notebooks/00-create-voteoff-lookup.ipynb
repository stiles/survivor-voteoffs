{
 "cells": [
  {
   "cell_type": "markdown",
   "id": "0fdd4e16-e062-4146-9c40-05a340ecc972",
   "metadata": {},
   "source": [
    "# Castaways voted off\n",
    "> Make a clean list of voted-off castaways, in order, from the survivoR `vote_history` table.   "
   ]
  },
  {
   "cell_type": "markdown",
   "id": "2cd6a4cf-3892-4cc9-97de-84f87dc86d7d",
   "metadata": {},
   "source": [
    "#### Load Python tools and Jupyter config"
   ]
  },
  {
   "cell_type": "code",
   "execution_count": 1,
   "id": "09045afa-19e6-421c-9d4a-85b3dd167ca7",
   "metadata": {},
   "outputs": [],
   "source": [
    "import pandas as pd\n",
    "import jupyter_black"
   ]
  },
  {
   "cell_type": "code",
   "execution_count": 2,
   "id": "a5f0501c-0288-47c4-9b1e-99788d5caecf",
   "metadata": {},
   "outputs": [
    {
     "data": {
      "text/html": [
       "\n",
       "                <script type=\"application/javascript\" id=\"jupyter_black\">\n",
       "                (function() {\n",
       "                    if (window.IPython === undefined) {\n",
       "                        return\n",
       "                    }\n",
       "                    var msg = \"WARNING: it looks like you might have loaded \" +\n",
       "                        \"jupyter_black in a non-lab notebook with \" +\n",
       "                        \"`is_lab=True`. Please double check, and if \" +\n",
       "                        \"loading with `%load_ext` please review the README!\"\n",
       "                    console.log(msg)\n",
       "                    alert(msg)\n",
       "                })()\n",
       "                </script>\n",
       "                "
      ],
      "text/plain": [
       "<IPython.core.display.HTML object>"
      ]
     },
     "metadata": {},
     "output_type": "display_data"
    }
   ],
   "source": [
    "jupyter_black.load()\n",
    "pd.options.display.max_columns = 100\n",
    "pd.options.display.max_rows = 1000"
   ]
  },
  {
   "cell_type": "markdown",
   "id": "d9ec1603-0bda-4d46-a251-1c50f137d197",
   "metadata": {},
   "source": [
    "---"
   ]
  },
  {
   "cell_type": "markdown",
   "id": "3bbfd20b-7936-4f21-a091-697fca808ab1",
   "metadata": {},
   "source": [
    "## Read data"
   ]
  },
  {
   "cell_type": "markdown",
   "id": "f45a5c6e",
   "metadata": {},
   "source": [
    "#### Read vote history table from the [survivoR2py repo](https://github.com/stiles/survivoR2py)"
   ]
  },
  {
   "cell_type": "code",
   "execution_count": 3,
   "id": "3e622a48-e505-401c-8c3b-6b45100779ac",
   "metadata": {},
   "outputs": [],
   "source": [
    "src = pd.read_csv(\n",
    "    \"https://raw.githubusercontent.com/stiles/survivoR2py/main/data/raw/csv/vote_history.csv\",\n",
    "    dtype={\"season\": int, \"day\": int, \"episode\": int},\n",
    ")"
   ]
  },
  {
   "cell_type": "markdown",
   "id": "8d944f70",
   "metadata": {},
   "source": [
    "#### Filter for distinct values to create a vote off lookup"
   ]
  },
  {
   "cell_type": "code",
   "execution_count": 4,
   "id": "5448397e-bbba-43c0-aa05-600e19984360",
   "metadata": {},
   "outputs": [],
   "source": [
    "vote_offs = (\n",
    "    src.query(f'version == \"US\"')[[\"season\", \"episode\", \"voted_out\", \"voted_out_id\"]]\n",
    "    .drop_duplicates()\n",
    "    .reset_index(drop=True)\n",
    ")"
   ]
  },
  {
   "cell_type": "markdown",
   "id": "0fb8ef30",
   "metadata": {},
   "source": [
    "#### Running vote count by season"
   ]
  },
  {
   "cell_type": "code",
   "execution_count": 5,
   "id": "69ae5849",
   "metadata": {},
   "outputs": [],
   "source": [
    "vote_offs[\"vote\"] = vote_offs.groupby(\"season\")[\"voted_out\"].cumcount() + 1"
   ]
  },
  {
   "cell_type": "code",
   "execution_count": 6,
   "id": "31c964b7-1f65-497b-a3cb-3d83305cbb9e",
   "metadata": {},
   "outputs": [],
   "source": [
    "vote_offs[\"episode\"] = vote_offs[\"episode\"].astype(str)\n",
    "vote_offs[\"season\"] = vote_offs[\"season\"].astype(str)\n",
    "vote_offs[\"vote\"] = vote_offs[\"vote\"].astype(str)"
   ]
  },
  {
   "cell_type": "markdown",
   "id": "15b9c879-2480-49f4-99e7-6adc1a4c10aa",
   "metadata": {},
   "source": [
    "---"
   ]
  },
  {
   "cell_type": "markdown",
   "id": "41af18db-4aeb-4259-a7c1-b52471eb8693",
   "metadata": {},
   "source": [
    "## Exports"
   ]
  },
  {
   "cell_type": "markdown",
   "id": "d737f808-9d71-4f25-8cd1-3fcedc45ab63",
   "metadata": {},
   "source": [
    "#### CSV"
   ]
  },
  {
   "cell_type": "code",
   "execution_count": 7,
   "id": "0504831b-4df4-4ff2-bd26-f08ef7ca9198",
   "metadata": {},
   "outputs": [],
   "source": [
    "vote_offs.to_csv(\"../data/processed/survivor_voteoff_order.csv\", index=False)"
   ]
  },
  {
   "cell_type": "markdown",
   "id": "ab42fd3d",
   "metadata": {},
   "source": [
    "#### JSON"
   ]
  },
  {
   "cell_type": "code",
   "execution_count": 8,
   "id": "8383ed43",
   "metadata": {},
   "outputs": [],
   "source": [
    "vote_offs.to_json(\n",
    "    \"../data/processed/survivor_voteoff_order.json\",\n",
    "    indent=4,\n",
    "    orient=\"records\",\n",
    "    lines=False,\n",
    ")"
   ]
  }
 ],
 "metadata": {
  "kernelspec": {
   "display_name": "Python 3 (ipykernel)",
   "language": "python",
   "name": "python3"
  },
  "language_info": {
   "codemirror_mode": {
    "name": "ipython",
    "version": 3
   },
   "file_extension": ".py",
   "mimetype": "text/x-python",
   "name": "python",
   "nbconvert_exporter": "python",
   "pygments_lexer": "ipython3",
   "version": "3.9.15"
  }
 },
 "nbformat": 4,
 "nbformat_minor": 5
}
