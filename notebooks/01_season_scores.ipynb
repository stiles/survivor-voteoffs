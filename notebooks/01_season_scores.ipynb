{
 "cells": [
  {
   "cell_type": "markdown",
   "id": "0fdd4e16-e062-4146-9c40-05a340ecc972",
   "metadata": {},
   "source": [
    "# Suvivor voteoff reactions, by season\n",
    "> How did contestants in different season respond after their torches were snuffed? This notebook calculates the season average score for how often voted-off castaways acknowledged their tribemates by looking, smiling, gesturing or speaking. "
   ]
  },
  {
   "cell_type": "markdown",
   "id": "2cd6a4cf-3892-4cc9-97de-84f87dc86d7d",
   "metadata": {},
   "source": [
    "#### Load Python tools and Jupyter config"
   ]
  },
  {
   "cell_type": "code",
   "execution_count": 1,
   "id": "a7351614-bd07-4dae-9e16-da1fe9977caa",
   "metadata": {},
   "outputs": [],
   "source": [
    "import os\n",
    "import json\n",
    "import boto3\n",
    "import pandas as pd\n",
    "import jupyter_black"
   ]
  },
  {
   "cell_type": "code",
   "execution_count": 2,
   "id": "c41d7b0f-d4cc-44da-8779-feac247bef8e",
   "metadata": {},
   "outputs": [
    {
     "data": {
      "text/html": [
       "\n",
       "                <script type=\"application/javascript\" id=\"jupyter_black\">\n",
       "                (function() {\n",
       "                    if (window.IPython === undefined) {\n",
       "                        return\n",
       "                    }\n",
       "                    var msg = \"WARNING: it looks like you might have loaded \" +\n",
       "                        \"jupyter_black in a non-lab notebook with \" +\n",
       "                        \"`is_lab=True`. Please double check, and if \" +\n",
       "                        \"loading with `%load_ext` please review the README!\"\n",
       "                    console.log(msg)\n",
       "                    alert(msg)\n",
       "                })()\n",
       "                </script>\n",
       "                "
      ],
      "text/plain": [
       "<IPython.core.display.HTML object>"
      ]
     },
     "metadata": {},
     "output_type": "display_data"
    }
   ],
   "source": [
    "jupyter_black.load()\n",
    "pd.options.display.max_columns = 100\n",
    "pd.options.display.max_rows = 1000"
   ]
  },
  {
   "cell_type": "markdown",
   "id": "ad51cd4c-dd75-408a-9129-cbc29dd5c8d3",
   "metadata": {},
   "source": [
    "---"
   ]
  },
  {
   "cell_type": "markdown",
   "id": "866b929a-db8a-48d9-8765-4fea94d798d4",
   "metadata": {},
   "source": [
    "## Fetch"
   ]
  },
  {
   "cell_type": "markdown",
   "id": "be973a4b-61a2-431f-a2af-d19d85ce1115",
   "metadata": {},
   "source": [
    "#### Read season summary from survivoR2py repo"
   ]
  },
  {
   "cell_type": "code",
   "execution_count": 3,
   "id": "1967e014-9f62-4f9f-bf1a-0a94a879dbf5",
   "metadata": {},
   "outputs": [],
   "source": [
    "# Limit to US seasons, change data types and limit columns\n",
    "season_summary_df = pd.read_csv(\n",
    "    \"https://raw.githubusercontent.com/stiles/survivoR2py/main/data/raw/csv/season_summary.csv\",\n",
    "    dtype={\"season\": str, \"episode\": str},\n",
    ").query('version == \"US\"')[[\"season\", \"n_cast\", \"tribe_setup\", \"location\", \"country\"]]"
   ]
  },
  {
   "cell_type": "code",
   "execution_count": 4,
   "id": "ce3d7703-2fc9-47f2-ac1e-59f57d97e01e",
   "metadata": {},
   "outputs": [],
   "source": [
    "season_summary_df[\"season\"] = season_summary_df[\"season\"].str.replace(\".0\", \"\")"
   ]
  },
  {
   "cell_type": "markdown",
   "id": "76f812b6-1d46-4ed8-9304-4f1081b4160f",
   "metadata": {},
   "source": [
    "#### Read vote off log processed in `scripts/01_vote_off_reaction.py`"
   ]
  },
  {
   "cell_type": "code",
   "execution_count": 5,
   "id": "3fbf720c-d830-4aae-b3d8-3198d58961d0",
   "metadata": {},
   "outputs": [],
   "source": [
    "voteoff_src = pd.read_json(\n",
    "    \"https://stilesdata.com/survivor/survivor_vote_off_reactions.json\",\n",
    "    dtype={\"season\": str, \"vote\": str, \"episode\": str},\n",
    ")"
   ]
  },
  {
   "cell_type": "markdown",
   "id": "8ebe016b-6dc8-4187-9294-dea41d16f61b",
   "metadata": {},
   "source": [
    "#### Add season summary details to vote offs"
   ]
  },
  {
   "cell_type": "code",
   "execution_count": 6,
   "id": "d4cdbdd1-d435-4cc7-a6fc-638624d3994c",
   "metadata": {},
   "outputs": [],
   "source": [
    "voteoff_df = pd.merge(voteoff_src, season_summary_df, on=\"season\")"
   ]
  },
  {
   "cell_type": "markdown",
   "id": "83ac0cdd-a1d3-4b68-bd46-0328ccb3ae63",
   "metadata": {},
   "source": [
    "---"
   ]
  },
  {
   "cell_type": "markdown",
   "id": "56818153-35fd-4c43-a502-c2c94cfbfc94",
   "metadata": {},
   "source": [
    "## Aggregate"
   ]
  },
  {
   "cell_type": "markdown",
   "id": "ddf92a11-5830-4927-9cb6-f82e04c050ba",
   "metadata": {},
   "source": [
    "#### Mean score over the life of the series"
   ]
  },
  {
   "cell_type": "code",
   "execution_count": 8,
   "id": "2f08b964-55e6-4d88-9cbd-f88a7a72fe90",
   "metadata": {},
   "outputs": [
    {
     "data": {
      "text/plain": [
       "1.69"
      ]
     },
     "execution_count": 8,
     "metadata": {},
     "output_type": "execute_result"
    }
   ],
   "source": [
    "series_score = round(float(voteoff_df[\"ack_score\"].mean()), 2)\n",
    "series_score"
   ]
  },
  {
   "cell_type": "markdown",
   "id": "c68edfd4-4d24-40ab-9705-ca870b718bf9",
   "metadata": {},
   "source": [
    "#### Group by gender and get mean score"
   ]
  },
  {
   "cell_type": "code",
   "execution_count": 7,
   "id": "7bbf0812-b45c-42b4-a4f0-4a940928ac52",
   "metadata": {},
   "outputs": [
    {
     "data": {
      "text/html": [
       "<div>\n",
       "<style scoped>\n",
       "    .dataframe tbody tr th:only-of-type {\n",
       "        vertical-align: middle;\n",
       "    }\n",
       "\n",
       "    .dataframe tbody tr th {\n",
       "        vertical-align: top;\n",
       "    }\n",
       "\n",
       "    .dataframe thead th {\n",
       "        text-align: right;\n",
       "    }\n",
       "</style>\n",
       "<table border=\"1\" class=\"dataframe\">\n",
       "  <thead>\n",
       "    <tr style=\"text-align: right;\">\n",
       "      <th></th>\n",
       "      <th>gender</th>\n",
       "      <th>count</th>\n",
       "      <th>mean_score</th>\n",
       "    </tr>\n",
       "  </thead>\n",
       "  <tbody>\n",
       "    <tr>\n",
       "      <th>0</th>\n",
       "      <td>Female</td>\n",
       "      <td>353</td>\n",
       "      <td>1.70</td>\n",
       "    </tr>\n",
       "    <tr>\n",
       "      <th>1</th>\n",
       "      <td>Male</td>\n",
       "      <td>339</td>\n",
       "      <td>1.68</td>\n",
       "    </tr>\n",
       "    <tr>\n",
       "      <th>2</th>\n",
       "      <td>Non-binary</td>\n",
       "      <td>1</td>\n",
       "      <td>3.00</td>\n",
       "    </tr>\n",
       "  </tbody>\n",
       "</table>\n",
       "</div>"
      ],
      "text/plain": [
       "       gender  count  mean_score\n",
       "0      Female    353        1.70\n",
       "1        Male    339        1.68\n",
       "2  Non-binary      1        3.00"
      ]
     },
     "execution_count": 7,
     "metadata": {},
     "output_type": "execute_result"
    }
   ],
   "source": [
    "gender_scores = (\n",
    "    (\n",
    "        voteoff_df.groupby([\"gender\"])\n",
    "        .agg({\"castaway_id\": \"count\", \"ack_score\": \"mean\"})\n",
    "        .round(2)\n",
    "    )\n",
    "    .reset_index()\n",
    "    .rename(columns={\"castaway_id\": \"count\", \"ack_score\": \"mean_score\"})\n",
    ")\n",
    "gender_scores"
   ]
  },
  {
   "cell_type": "markdown",
   "id": "c7755211-0769-4933-9b0e-9f5368073c51",
   "metadata": {},
   "source": [
    "#### Mean score by season"
   ]
  },
  {
   "cell_type": "code",
   "execution_count": 9,
   "id": "cf673f70-566f-4a5c-8034-bf97ee471413",
   "metadata": {},
   "outputs": [],
   "source": [
    "season_scores = (\n",
    "    voteoff_df.groupby([\"season\", \"season_name\", \"n_cast\", \"location\", \"country\"])[\n",
    "        \"ack_score\"\n",
    "    ]\n",
    "    .mean()\n",
    "    .round(2)\n",
    "    .reset_index(name=\"mean_ack_score\")\n",
    ")"
   ]
  },
  {
   "cell_type": "code",
   "execution_count": 10,
   "id": "7e9832f4-7642-4c8b-9490-592322100ee8",
   "metadata": {},
   "outputs": [],
   "source": [
    "season_scores[\"series_score\"] = series_score"
   ]
  },
  {
   "cell_type": "markdown",
   "id": "6b53e784-4eee-4b00-a850-8a6580176571",
   "metadata": {},
   "source": [
    "#### Negative score = less acknowledgement in a season"
   ]
  },
  {
   "cell_type": "code",
   "execution_count": 11,
   "id": "43c5d8ba-ebbb-4d35-83e6-0edcaae21210",
   "metadata": {},
   "outputs": [],
   "source": [
    "season_scores[\"season_score_diff\"] = (\n",
    "    season_scores[\"mean_ack_score\"] - season_scores[\"series_score\"]\n",
    ")"
   ]
  },
  {
   "cell_type": "markdown",
   "id": "ae2b2a67-0de9-4481-8ad6-9a5ffb96cab6",
   "metadata": {},
   "source": [
    "#### Highest acknowledgement"
   ]
  },
  {
   "cell_type": "code",
   "execution_count": 12,
   "id": "8920cb51-a9db-47bb-aff6-4e9fe9bf1144",
   "metadata": {},
   "outputs": [
    {
     "data": {
      "text/html": [
       "<div>\n",
       "<style scoped>\n",
       "    .dataframe tbody tr th:only-of-type {\n",
       "        vertical-align: middle;\n",
       "    }\n",
       "\n",
       "    .dataframe tbody tr th {\n",
       "        vertical-align: top;\n",
       "    }\n",
       "\n",
       "    .dataframe thead th {\n",
       "        text-align: right;\n",
       "    }\n",
       "</style>\n",
       "<table border=\"1\" class=\"dataframe\">\n",
       "  <thead>\n",
       "    <tr style=\"text-align: right;\">\n",
       "      <th></th>\n",
       "      <th>season</th>\n",
       "      <th>season_name</th>\n",
       "      <th>n_cast</th>\n",
       "      <th>location</th>\n",
       "      <th>country</th>\n",
       "      <th>mean_ack_score</th>\n",
       "      <th>series_score</th>\n",
       "      <th>season_score_diff</th>\n",
       "    </tr>\n",
       "  </thead>\n",
       "  <tbody>\n",
       "    <tr>\n",
       "      <th>7</th>\n",
       "      <td>16</td>\n",
       "      <td>Survivor: Micronesia</td>\n",
       "      <td>20</td>\n",
       "      <td>Koror, Palau</td>\n",
       "      <td>Palau</td>\n",
       "      <td>2.93</td>\n",
       "      <td>1.69</td>\n",
       "      <td>1.24</td>\n",
       "    </tr>\n",
       "    <tr>\n",
       "      <th>31</th>\n",
       "      <td>38</td>\n",
       "      <td>Survivor: Edge of Extinction</td>\n",
       "      <td>18</td>\n",
       "      <td>Mamanuca Islands, Fiji</td>\n",
       "      <td>Fiji</td>\n",
       "      <td>2.88</td>\n",
       "      <td>1.69</td>\n",
       "      <td>1.19</td>\n",
       "    </tr>\n",
       "    <tr>\n",
       "      <th>36</th>\n",
       "      <td>42</td>\n",
       "      <td>Survivor: 42</td>\n",
       "      <td>18</td>\n",
       "      <td>Mamanuca Islands, Fiji</td>\n",
       "      <td>Fiji</td>\n",
       "      <td>2.71</td>\n",
       "      <td>1.69</td>\n",
       "      <td>1.02</td>\n",
       "    </tr>\n",
       "    <tr>\n",
       "      <th>41</th>\n",
       "      <td>5</td>\n",
       "      <td>Survivor: Thailand</td>\n",
       "      <td>16</td>\n",
       "      <td>Ko Tarutao, Satun Province, Thailand</td>\n",
       "      <td>Thailand</td>\n",
       "      <td>2.71</td>\n",
       "      <td>1.69</td>\n",
       "      <td>1.02</td>\n",
       "    </tr>\n",
       "    <tr>\n",
       "      <th>38</th>\n",
       "      <td>44</td>\n",
       "      <td>Survivor: 44</td>\n",
       "      <td>18</td>\n",
       "      <td>Mamanuca Islands, Fiji</td>\n",
       "      <td>Fiji</td>\n",
       "      <td>2.69</td>\n",
       "      <td>1.69</td>\n",
       "      <td>1.00</td>\n",
       "    </tr>\n",
       "  </tbody>\n",
       "</table>\n",
       "</div>"
      ],
      "text/plain": [
       "   season                   season_name  n_cast  \\\n",
       "7      16          Survivor: Micronesia      20   \n",
       "31     38  Survivor: Edge of Extinction      18   \n",
       "36     42                  Survivor: 42      18   \n",
       "41      5            Survivor: Thailand      16   \n",
       "38     44                  Survivor: 44      18   \n",
       "\n",
       "                                location   country  mean_ack_score  \\\n",
       "7                           Koror, Palau     Palau            2.93   \n",
       "31                Mamanuca Islands, Fiji      Fiji            2.88   \n",
       "36                Mamanuca Islands, Fiji      Fiji            2.71   \n",
       "41  Ko Tarutao, Satun Province, Thailand  Thailand            2.71   \n",
       "38                Mamanuca Islands, Fiji      Fiji            2.69   \n",
       "\n",
       "    series_score  season_score_diff  \n",
       "7           1.69               1.24  \n",
       "31          1.69               1.19  \n",
       "36          1.69               1.02  \n",
       "41          1.69               1.02  \n",
       "38          1.69               1.00  "
      ]
     },
     "execution_count": 12,
     "metadata": {},
     "output_type": "execute_result"
    }
   ],
   "source": [
    "season_scores.sort_values(\"season_score_diff\", ascending=False).head()"
   ]
  },
  {
   "cell_type": "markdown",
   "id": "a6ed1cdd-c501-4e91-b536-7279da0bb623",
   "metadata": {},
   "source": [
    "#### Lowest acknowledgement"
   ]
  },
  {
   "cell_type": "code",
   "execution_count": 13,
   "id": "5ffd775d-80c4-4665-9b0e-87a27ca99545",
   "metadata": {},
   "outputs": [
    {
     "data": {
      "text/html": [
       "<div>\n",
       "<style scoped>\n",
       "    .dataframe tbody tr th:only-of-type {\n",
       "        vertical-align: middle;\n",
       "    }\n",
       "\n",
       "    .dataframe tbody tr th {\n",
       "        vertical-align: top;\n",
       "    }\n",
       "\n",
       "    .dataframe thead th {\n",
       "        text-align: right;\n",
       "    }\n",
       "</style>\n",
       "<table border=\"1\" class=\"dataframe\">\n",
       "  <thead>\n",
       "    <tr style=\"text-align: right;\">\n",
       "      <th></th>\n",
       "      <th>season</th>\n",
       "      <th>season_name</th>\n",
       "      <th>n_cast</th>\n",
       "      <th>location</th>\n",
       "      <th>country</th>\n",
       "      <th>mean_ack_score</th>\n",
       "      <th>series_score</th>\n",
       "      <th>season_score_diff</th>\n",
       "    </tr>\n",
       "  </thead>\n",
       "  <tbody>\n",
       "    <tr>\n",
       "      <th>14</th>\n",
       "      <td>22</td>\n",
       "      <td>Survivor: Redemption Island</td>\n",
       "      <td>18</td>\n",
       "      <td>San Juan del Sur, Rivas, Nicaragua</td>\n",
       "      <td>Nicaragua</td>\n",
       "      <td>0.65</td>\n",
       "      <td>1.69</td>\n",
       "      <td>-1.04</td>\n",
       "    </tr>\n",
       "    <tr>\n",
       "      <th>43</th>\n",
       "      <td>7</td>\n",
       "      <td>Survivor: Pearl Islands</td>\n",
       "      <td>16</td>\n",
       "      <td>Pearl Islands, Panama</td>\n",
       "      <td>Panama</td>\n",
       "      <td>0.62</td>\n",
       "      <td>1.69</td>\n",
       "      <td>-1.07</td>\n",
       "    </tr>\n",
       "    <tr>\n",
       "      <th>6</th>\n",
       "      <td>15</td>\n",
       "      <td>Survivor: China</td>\n",
       "      <td>16</td>\n",
       "      <td>Zhelin, Jiujiang, Jiangxi, China</td>\n",
       "      <td>China</td>\n",
       "      <td>0.54</td>\n",
       "      <td>1.69</td>\n",
       "      <td>-1.15</td>\n",
       "    </tr>\n",
       "    <tr>\n",
       "      <th>11</th>\n",
       "      <td>2</td>\n",
       "      <td>Survivor: The Australian Outback</td>\n",
       "      <td>16</td>\n",
       "      <td>Herbert River at Goshen Station, Queensland, A...</td>\n",
       "      <td>Australia</td>\n",
       "      <td>0.00</td>\n",
       "      <td>1.69</td>\n",
       "      <td>-1.69</td>\n",
       "    </tr>\n",
       "    <tr>\n",
       "      <th>22</th>\n",
       "      <td>3</td>\n",
       "      <td>Survivor: Africa</td>\n",
       "      <td>16</td>\n",
       "      <td>Shaba National Reserve, Kenya</td>\n",
       "      <td>Kenya</td>\n",
       "      <td>0.00</td>\n",
       "      <td>1.69</td>\n",
       "      <td>-1.69</td>\n",
       "    </tr>\n",
       "  </tbody>\n",
       "</table>\n",
       "</div>"
      ],
      "text/plain": [
       "   season                       season_name  n_cast  \\\n",
       "14     22       Survivor: Redemption Island      18   \n",
       "43      7           Survivor: Pearl Islands      16   \n",
       "6      15                   Survivor: China      16   \n",
       "11      2  Survivor: The Australian Outback      16   \n",
       "22      3                  Survivor: Africa      16   \n",
       "\n",
       "                                             location    country  \\\n",
       "14                 San Juan del Sur, Rivas, Nicaragua  Nicaragua   \n",
       "43                              Pearl Islands, Panama     Panama   \n",
       "6                    Zhelin, Jiujiang, Jiangxi, China      China   \n",
       "11  Herbert River at Goshen Station, Queensland, A...  Australia   \n",
       "22                      Shaba National Reserve, Kenya      Kenya   \n",
       "\n",
       "    mean_ack_score  series_score  season_score_diff  \n",
       "14            0.65          1.69              -1.04  \n",
       "43            0.62          1.69              -1.07  \n",
       "6             0.54          1.69              -1.15  \n",
       "11            0.00          1.69              -1.69  \n",
       "22            0.00          1.69              -1.69  "
      ]
     },
     "execution_count": 13,
     "metadata": {},
     "output_type": "execute_result"
    }
   ],
   "source": [
    "season_scores.sort_values(\"season_score_diff\", ascending=False).tail()"
   ]
  },
  {
   "cell_type": "markdown",
   "id": "9b2180f4-6fa0-4c58-ba7c-85082ca9e132",
   "metadata": {},
   "source": [
    "---"
   ]
  },
  {
   "cell_type": "markdown",
   "id": "ee1c2826-1c3e-4718-a2c0-425954beb45b",
   "metadata": {},
   "source": [
    "## Export"
   ]
  },
  {
   "cell_type": "code",
   "execution_count": 14,
   "id": "8294a725-c46b-4116-a25a-79472f299550",
   "metadata": {},
   "outputs": [],
   "source": [
    "# Output paths\n",
    "csv_output_path = \"../data/processed/survivor_voteoff_ack_scores_seasons.csv\"\n",
    "json_output_path = \"../data/processed/survivor_voteoff_ack_scores_seasons.json\""
   ]
  },
  {
   "cell_type": "code",
   "execution_count": 15,
   "id": "3a4388ae-9078-4b7c-a7e8-fd482267b20e",
   "metadata": {},
   "outputs": [],
   "source": [
    "# Save season scores to CSV\n",
    "season_scores.to_csv(csv_output_path, index=False)"
   ]
  },
  {
   "cell_type": "code",
   "execution_count": 16,
   "id": "457f45a1-cc07-4022-9bfe-0722fec85d83",
   "metadata": {},
   "outputs": [],
   "source": [
    "# Save season scores to JSON\n",
    "season_scores.to_json(json_output_path, orient=\"records\", indent=4)"
   ]
  },
  {
   "cell_type": "code",
   "execution_count": 17,
   "id": "ecc78fc1-f5fd-441d-afb4-f27e5ac902e8",
   "metadata": {},
   "outputs": [],
   "source": [
    "# Upload CSV and JSON to S3\n",
    "s3_bucket = \"stilesdata.com\"\n",
    "s3_csv_key = \"survivor/survivor_voteoff_ack_scores_seasons.csv\"\n",
    "s3_json_key = \"survivor/survivor_voteoff_ack_scores_seasons.json\"\n",
    "\n",
    "# Initialize boto3 client with environment variables\n",
    "s3_client = boto3.client(\n",
    "    \"s3\",\n",
    "    aws_access_key_id=os.getenv(\"MY_AWS_ACCESS_KEY_ID\"),\n",
    "    aws_secret_access_key=os.getenv(\"MY_AWS_SECRET_ACCESS_KEY\"),\n",
    "    aws_session_token=os.getenv(\"MY_AWS_SESSION_TOKEN\"),\n",
    ")"
   ]
  },
  {
   "cell_type": "code",
   "execution_count": 18,
   "id": "ddd34105-f75c-4231-a28f-5f98af52511c",
   "metadata": {},
   "outputs": [
    {
     "name": "stdout",
     "output_type": "stream",
     "text": [
      "CSV file uploaded to s3://stilesdata.com/survivor/survivor_voteoff_ack_scores_seasons.csv\n"
     ]
    }
   ],
   "source": [
    "# Upload the CSV file\n",
    "s3_client.upload_file(str(csv_output_path), s3_bucket, s3_csv_key)\n",
    "print(f\"CSV file uploaded to s3://{s3_bucket}/{s3_csv_key}\")"
   ]
  },
  {
   "cell_type": "code",
   "execution_count": 19,
   "id": "ccc5e7e2-5acf-4363-89e1-3bd35b08407a",
   "metadata": {},
   "outputs": [
    {
     "name": "stdout",
     "output_type": "stream",
     "text": [
      "JSON file uploaded to s3://stilesdata.com/survivor/survivor_voteoff_ack_scores_seasons.json\n"
     ]
    }
   ],
   "source": [
    "# Upload the JSON file\n",
    "s3_client.upload_file(str(json_output_path), s3_bucket, s3_json_key)\n",
    "print(f\"JSON file uploaded to s3://{s3_bucket}/{s3_json_key}\")"
   ]
  }
 ],
 "metadata": {
  "kernelspec": {
   "display_name": "Python 3 (ipykernel)",
   "language": "python",
   "name": "python3"
  },
  "language_info": {
   "codemirror_mode": {
    "name": "ipython",
    "version": 3
   },
   "file_extension": ".py",
   "mimetype": "text/x-python",
   "name": "python",
   "nbconvert_exporter": "python",
   "pygments_lexer": "ipython3",
   "version": "3.9.15"
  }
 },
 "nbformat": 4,
 "nbformat_minor": 5
}
