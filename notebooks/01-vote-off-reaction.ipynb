{
 "cells": [
  {
   "cell_type": "markdown",
   "id": "0fdd4e16-e062-4146-9c40-05a340ecc972",
   "metadata": {},
   "source": [
    "# Castaways reactions\n",
    "> How did contestants respond after their torch was snuffed? This script fetches the growing log and scores the acknowlegement of his/her tribe.rt    "
   ]
  },
  {
   "cell_type": "markdown",
   "id": "2cd6a4cf-3892-4cc9-97de-84f87dc86d7d",
   "metadata": {},
   "source": [
    "#### Load Python tools and Jupyter config"
   ]
  },
  {
   "cell_type": "code",
   "execution_count": 1,
   "id": "a7351614-bd07-4dae-9e16-da1fe9977caa",
   "metadata": {},
   "outputs": [],
   "source": [
    "import os\n",
    "import json\n",
    "import pandas as pd\n",
    "import jupyter_black\n",
    "import gspread\n",
    "from google.oauth2.service_account import Credentials"
   ]
  },
  {
   "cell_type": "code",
   "execution_count": 2,
   "id": "b3448f26-8748-422c-ab6b-756f2db04743",
   "metadata": {},
   "outputs": [
    {
     "data": {
      "text/html": [
       "\n",
       "                <script type=\"application/javascript\" id=\"jupyter_black\">\n",
       "                (function() {\n",
       "                    if (window.IPython === undefined) {\n",
       "                        return\n",
       "                    }\n",
       "                    var msg = \"WARNING: it looks like you might have loaded \" +\n",
       "                        \"jupyter_black in a non-lab notebook with \" +\n",
       "                        \"`is_lab=True`. Please double check, and if \" +\n",
       "                        \"loading with `%load_ext` please review the README!\"\n",
       "                    console.log(msg)\n",
       "                    alert(msg)\n",
       "                })()\n",
       "                </script>\n",
       "                "
      ],
      "text/plain": [
       "<IPython.core.display.HTML object>"
      ]
     },
     "metadata": {},
     "output_type": "display_data"
    }
   ],
   "source": [
    "jupyter_black.load()\n",
    "pd.options.display.max_columns = 100\n",
    "pd.options.display.max_rows = 1000"
   ]
  },
  {
   "cell_type": "code",
   "execution_count": 3,
   "id": "6bffe21a-66de-4140-a2a6-63253b586080",
   "metadata": {},
   "outputs": [],
   "source": [
    "# Use the environment variable to Google account key\n",
    "credentials_path = os.getenv(\"GOOGLE_SHEETS\")"
   ]
  },
  {
   "cell_type": "code",
   "execution_count": 4,
   "id": "07fabd32-604a-4385-b7ba-bf5a318dee3d",
   "metadata": {},
   "outputs": [],
   "source": [
    "# Output paths\n",
    "csv_output_path = \"../data/processed/survivor_vote_off_reactions.csv\"\n",
    "json_output_path = \"../data/processed/survivor_vote_off_reactions.json\""
   ]
  },
  {
   "cell_type": "markdown",
   "id": "93e6e1a7-f4e4-40d4-a087-c9ce6df489a1",
   "metadata": {},
   "source": [
    "#### Google Sheets creds"
   ]
  },
  {
   "cell_type": "code",
   "execution_count": 5,
   "id": "6a897bda-b22f-4afb-af79-19f547c2344c",
   "metadata": {},
   "outputs": [],
   "source": [
    "# Load the client secrets file\n",
    "service_account_file = \"/Users/mstiles/.google_service_account.json\""
   ]
  },
  {
   "cell_type": "code",
   "execution_count": 6,
   "id": "69c0f684-49d4-4713-945e-db71c9bdac11",
   "metadata": {},
   "outputs": [],
   "source": [
    "# Define the scope\n",
    "scope = [\n",
    "    \"https://spreadsheets.google.com/feeds\",\n",
    "    \"https://www.googleapis.com/auth/drive\",\n",
    "]\n",
    "\n",
    "# Authenticate using the service account file\n",
    "credentials = Credentials.from_service_account_file(service_account_file, scopes=scope)\n",
    "\n",
    "# Authorize the gspread client\n",
    "client = gspread.authorize(credentials)"
   ]
  },
  {
   "cell_type": "markdown",
   "id": "d9ec1603-0bda-4d46-a251-1c50f137d197",
   "metadata": {},
   "source": [
    "---"
   ]
  },
  {
   "cell_type": "markdown",
   "id": "3bbfd20b-7936-4f21-a091-697fca808ab1",
   "metadata": {},
   "source": [
    "## Read data"
   ]
  },
  {
   "cell_type": "markdown",
   "id": "f45a5c6e",
   "metadata": {},
   "source": [
    "#### Get data entry table"
   ]
  },
  {
   "cell_type": "code",
   "execution_count": 7,
   "id": "8c9dabbf-3cee-4e25-898a-29604f0332cc",
   "metadata": {},
   "outputs": [],
   "source": [
    "# Open the Google Spreadsheet by name\n",
    "spreadsheet_name = \"survivor_vote_offs\"\n",
    "spreadsheet = client.open(spreadsheet_name).get_worksheet(0)\n",
    "\n",
    "# Fetch data from the worksheet\n",
    "data = spreadsheet.get_all_records()"
   ]
  },
  {
   "cell_type": "code",
   "execution_count": 8,
   "id": "c4c8b98a-629f-4ba3-86cc-1823df534aae",
   "metadata": {},
   "outputs": [],
   "source": [
    "data_entry = pd.DataFrame(data)"
   ]
  },
  {
   "cell_type": "code",
   "execution_count": 9,
   "id": "4a4a87f7-619c-44c2-af47-a4747185aa12",
   "metadata": {},
   "outputs": [],
   "source": [
    "# clean castaways table\n",
    "vote_offs_lookup = pd.read_csv(\"../data/processed/survivor_voteoff_order.csv\")"
   ]
  },
  {
   "cell_type": "code",
   "execution_count": 10,
   "id": "3ef5627d-a01f-49a7-8cd2-4b614f7f5278",
   "metadata": {},
   "outputs": [
    {
     "name": "stdout",
     "output_type": "stream",
     "text": [
      "Lengths match successfully!\n"
     ]
    }
   ],
   "source": [
    "# Assertion to ensure the lengths are the same\n",
    "assert len(data_entry) == len(\n",
    "    vote_offs_lookup\n",
    "), f\"Assertion failed: Lengths do not match (data_entry: {len(data_entry)}, vote_offs_lookup: {len(vote_offs_lookup)}\"\n",
    "\n",
    "print(\"Lengths match successfully!\")"
   ]
  },
  {
   "cell_type": "code",
   "execution_count": 11,
   "id": "2955878f",
   "metadata": {},
   "outputs": [],
   "source": [
    "# Merge them together to add ids to Google Sheet\n",
    "merged = pd.merge(\n",
    "    data_entry, vote_offs_lookup, on=[\"season\", \"vote\"], how=\"right\", indicator=True\n",
    ")"
   ]
  },
  {
   "cell_type": "code",
   "execution_count": 12,
   "id": "4352d991-7558-4edf-a53d-437ae087e52c",
   "metadata": {},
   "outputs": [],
   "source": [
    "merged[\"match\"] = merged[\"castaway\"] == merged[\"voted_out\"]"
   ]
  },
  {
   "cell_type": "code",
   "execution_count": 13,
   "id": "e5cc389b-9e7e-4c3f-8240-93790b66c770",
   "metadata": {},
   "outputs": [
    {
     "name": "stdout",
     "output_type": "stream",
     "text": [
      "All rows matched successfully!\n"
     ]
    }
   ],
   "source": [
    "assert merged[\n",
    "    \"match\"\n",
    "].all(), \"Assertion failed: There are mismatched rows in the DataFrame.\"\n",
    "\n",
    "print(\"All rows matched successfully!\")"
   ]
  },
  {
   "cell_type": "code",
   "execution_count": 14,
   "id": "e48f5dbc-a6ec-41ad-8a7d-a4f0d73c399c",
   "metadata": {},
   "outputs": [],
   "source": [
    "# List of columns to convert\n",
    "bool_columns = [\"acknowledge\", \"ack_gesture\", \"ack_speak\", \"ack_look\", \"ack_smile\"]\n",
    "\n",
    "# Convert the columns from string to boolean\n",
    "for col in bool_columns:\n",
    "    merged[col] = merged[col].map({\"TRUE\": True, \"FALSE\": False})"
   ]
  },
  {
   "cell_type": "code",
   "execution_count": 15,
   "id": "7caf7c69-171e-42fd-92e0-3063246f60a0",
   "metadata": {},
   "outputs": [],
   "source": [
    "# Define acknowledgment columns\n",
    "ack_columns = [\"ack_gesture\", \"ack_speak\", \"ack_look\", \"ack_smile\"]"
   ]
  },
  {
   "cell_type": "code",
   "execution_count": 16,
   "id": "1f837821-b7e4-43c8-9ad6-d4555f5889cf",
   "metadata": {},
   "outputs": [
    {
     "data": {
      "text/plain": [
       "acknowledge\n",
       "True     55\n",
       "False    40\n",
       "Name: count, dtype: int64"
      ]
     },
     "execution_count": 16,
     "metadata": {},
     "output_type": "execute_result"
    }
   ],
   "source": [
    "merged.sample(100).acknowledge.value_counts()"
   ]
  },
  {
   "cell_type": "code",
   "execution_count": 17,
   "id": "781675c0",
   "metadata": {},
   "outputs": [],
   "source": [
    "# Calculate acknowledgment score as the count of True values in the acknowledgment columns\n",
    "merged[\"ack_score\"] = merged[ack_columns].sum(axis=1)"
   ]
  },
  {
   "cell_type": "code",
   "execution_count": 18,
   "id": "e570782a-4fad-4ee7-b989-fcdfb52de279",
   "metadata": {},
   "outputs": [],
   "source": [
    "# Save to CSV\n",
    "merged.to_csv(csv_output_path, index=False)"
   ]
  },
  {
   "cell_type": "code",
   "execution_count": 19,
   "id": "575543ea-01ed-40f7-8241-d00251a91257",
   "metadata": {},
   "outputs": [],
   "source": [
    "# Save to JSON\n",
    "merged.to_json(json_output_path, orient=\"records\", indent=4)"
   ]
  },
  {
   "cell_type": "markdown",
   "id": "2e2298f3-112d-4754-a724-7e24f40d1ab7",
   "metadata": {},
   "source": [
    "----"
   ]
  },
  {
   "cell_type": "markdown",
   "id": "de74aeb3-3dcd-4d29-a082-5511f530f18e",
   "metadata": {},
   "source": [
    "#### How much is left? "
   ]
  },
  {
   "cell_type": "code",
   "execution_count": 20,
   "id": "9d42019b-896b-4efb-ac3c-06d5b6410cf8",
   "metadata": {},
   "outputs": [],
   "source": [
    "left = len(data_entry.query(\"acknowledge == ''\"))\n",
    "done = len(data_entry.query(\"acknowledge != ''\"))\n",
    "total = len(data_entry)"
   ]
  },
  {
   "cell_type": "code",
   "execution_count": 21,
   "id": "6c0f70f1-588d-4911-bd3b-5be65c47494f",
   "metadata": {},
   "outputs": [
    {
     "data": {
      "text/plain": [
       "94.08"
      ]
     },
     "execution_count": 21,
     "metadata": {},
     "output_type": "execute_result"
    }
   ],
   "source": [
    "round((done / total) * 100, 2)"
   ]
  }
 ],
 "metadata": {
  "kernelspec": {
   "display_name": "Python 3 (ipykernel)",
   "language": "python",
   "name": "python3"
  },
  "language_info": {
   "codemirror_mode": {
    "name": "ipython",
    "version": 3
   },
   "file_extension": ".py",
   "mimetype": "text/x-python",
   "name": "python",
   "nbconvert_exporter": "python",
   "pygments_lexer": "ipython3",
   "version": "3.9.15"
  }
 },
 "nbformat": 4,
 "nbformat_minor": 5
}
