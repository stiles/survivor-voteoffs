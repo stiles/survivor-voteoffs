{
 "cells": [
  {
   "cell_type": "markdown",
   "id": "0fdd4e16-e062-4146-9c40-05a340ecc972",
   "metadata": {},
   "source": [
    "# Castaways reactions\n",
    "> How did contestants respond after their torch was snuffed? This script fetches the growing log and scores the acknowlegement of his/her tribe.rt    "
   ]
  },
  {
   "cell_type": "markdown",
   "id": "2cd6a4cf-3892-4cc9-97de-84f87dc86d7d",
   "metadata": {},
   "source": [
    "#### Load Python tools and Jupyter config"
   ]
  },
  {
   "cell_type": "code",
   "execution_count": 1,
   "id": "a7351614-bd07-4dae-9e16-da1fe9977caa",
   "metadata": {},
   "outputs": [],
   "source": [
    "import os\n",
    "import json\n",
    "import boto3\n",
    "import gspread\n",
    "import pandas as pd\n",
    "from pathlib import Path\n",
    "from google.oauth2.service_account import Credentials"
   ]
  },
  {
   "cell_type": "code",
   "execution_count": 2,
   "id": "b3448f26-8748-422c-ab6b-756f2db04743",
   "metadata": {},
   "outputs": [],
   "source": [
    "pd.options.display.max_columns = 100\n",
    "pd.options.display.max_rows = 1000"
   ]
  },
  {
   "cell_type": "code",
   "execution_count": 3,
   "id": "669f0863-74a2-4839-a595-3db9e6cd1607",
   "metadata": {},
   "outputs": [],
   "source": [
    "# Load the client secrets file\n",
    "service_account_file = Path.home() / \".google_service_account.json\"\n",
    "\n",
    "# Define the scope\n",
    "scope = [\n",
    "    \"https://spreadsheets.google.com/feeds\",\n",
    "    \"https://www.googleapis.com/auth/drive\",\n",
    "]\n",
    "\n",
    "# Authenticate using the service account file\n",
    "credentials = Credentials.from_service_account_file(service_account_file, scopes=scope)\n",
    "\n",
    "# Authorize the gspread client\n",
    "client = gspread.authorize(credentials)"
   ]
  },
  {
   "cell_type": "code",
   "execution_count": 4,
   "id": "1bece062-3cfb-4784-80d3-66a099a06631",
   "metadata": {},
   "outputs": [],
   "source": [
    "# Determine the absolute paths for input and output files\n",
    "csv_output_path = \"../data/processed/survivor_vote_off_reactions.csv\"\n",
    "json_output_path = \"../data/processed/survivor_vote_off_reactions.json\"\n",
    "vote_offs_lookup_path = \"../data/processed/survivor_vote_off_order.csv\""
   ]
  },
  {
   "cell_type": "code",
   "execution_count": 5,
   "id": "4c4620ab-3944-43ba-b5e3-c4655c0ec0aa",
   "metadata": {},
   "outputs": [],
   "source": [
    "# Open the Google Spreadsheet by name\n",
    "spreadsheet_name = \"survivor_vote_offs\"\n",
    "spreadsheet = client.open(spreadsheet_name).get_worksheet(0)"
   ]
  },
  {
   "cell_type": "code",
   "execution_count": 6,
   "id": "d5230807-e880-44bf-9abc-a89dcf32cab6",
   "metadata": {},
   "outputs": [],
   "source": [
    "# Fetch data from the worksheet\n",
    "data = spreadsheet.get_all_records()\n",
    "\n",
    "# Convert data to DataFrame\n",
    "data_entry = pd.DataFrame(data)\n",
    "\n",
    "# Clean castaways table\n",
    "vote_offs_lookup = pd.read_csv(vote_offs_lookup_path)"
   ]
  },
  {
   "cell_type": "code",
   "execution_count": 7,
   "id": "bdc36479-1342-475d-80f0-12c4f48badab",
   "metadata": {},
   "outputs": [
    {
     "name": "stdout",
     "output_type": "stream",
     "text": [
      "Lengths match successfully!\n"
     ]
    }
   ],
   "source": [
    "# Assertion to ensure the lengths are the same\n",
    "assert len(data_entry) == len(vote_offs_lookup), (\n",
    "    f\"Assertion failed: Lengths do not match (data_entry: {len(data_entry)}, \"\n",
    "    f\"vote_offs_lookup: {len(vote_offs_lookup)})\"\n",
    ")\n",
    "\n",
    "print(\"Lengths match successfully!\")"
   ]
  },
  {
   "cell_type": "code",
   "execution_count": 8,
   "id": "4abbc938-5253-4fa8-b9a4-8802d5334fca",
   "metadata": {},
   "outputs": [],
   "source": [
    "# Merge them together to add ids to Google Sheet\n",
    "merged = pd.merge(\n",
    "    data_entry, vote_offs_lookup, on=[\"season\", \"vote\"], how=\"right\", indicator=True\n",
    ")\n",
    "merged[\"match\"] = merged[\"castaway\"] == merged[\"voted_out\"]"
   ]
  },
  {
   "cell_type": "code",
   "execution_count": 9,
   "id": "18fa9d85-73e7-42c8-ae87-326c427301d8",
   "metadata": {},
   "outputs": [
    {
     "name": "stdout",
     "output_type": "stream",
     "text": [
      "All rows matched successfully!\n"
     ]
    }
   ],
   "source": [
    "assert merged[\"match\"].all(), \"Assertion failed: There are mismatched rows in the DataFrame.\"\n",
    "\n",
    "print(\"All rows matched successfully!\")"
   ]
  },
  {
   "cell_type": "code",
   "execution_count": 10,
   "id": "ae48b76e-1a49-4ba7-861f-7d9879bcec45",
   "metadata": {},
   "outputs": [],
   "source": [
    "# List of columns to convert\n",
    "bool_columns = [\"acknowledge\", \"ack_gesture\", \"ack_speak\", \"ack_look\", \"ack_smile\"]\n",
    "\n",
    "# Convert the columns from string to boolean\n",
    "merged[bool_columns] = merged[bool_columns] == \"TRUE\"\n",
    "\n",
    "# Define acknowledgment columns\n",
    "ack_columns = [\"ack_gesture\", \"ack_speak\", \"ack_look\", \"ack_smile\"]"
   ]
  },
  {
   "cell_type": "code",
   "execution_count": 11,
   "id": "66ee5b1c-3e75-4ec2-9f00-fd79f9f2694f",
   "metadata": {},
   "outputs": [],
   "source": [
    "# Calculate acknowledgment score as the count of True values in the acknowledgment columns\n",
    "merged[\"ack_score\"] = merged[ack_columns].sum(axis=1)\n",
    "\n",
    "clean_cols = [\n",
    "    'season', 'vote', 'episode', 'castaway', 'voted_out_id', 'acknowledge', 'ack_gesture', \n",
    "    'ack_speak', 'ack_look', 'ack_smile', 'ack_speak_notes', 'ack_score', 'notes'\n",
    "]\n",
    "\n",
    "merged_clean = merged[clean_cols].rename(columns={'voted_out_id': 'castaway_id'}).copy()"
   ]
  },
  {
   "cell_type": "code",
   "execution_count": 12,
   "id": "fb207e50-839b-4fb7-a210-0fe62efc567c",
   "metadata": {},
   "outputs": [],
   "source": [
    "# Save to CSV\n",
    "merged_clean.to_csv(csv_output_path, index=False)\n",
    "\n",
    "# Save to JSON\n",
    "merged_clean.to_json(json_output_path, orient='records', lines=False, indent=4)"
   ]
  },
  {
   "cell_type": "code",
   "execution_count": 13,
   "id": "157169ac-42a5-4171-85b8-d42a43924996",
   "metadata": {},
   "outputs": [],
   "source": [
    "# Upload CSV and JSON to S3\n",
    "s3_bucket = 'stilesdata.com'\n",
    "s3_csv_key = 'survivor/survivor_vote_off_reactions.csv'\n",
    "s3_json_key = 'survivor/survivor_vote_off_reactions.json'\n",
    "\n",
    "# Initialize boto3 client with environment variables\n",
    "s3_client = boto3.client(\n",
    "    's3',\n",
    "    aws_access_key_id=os.getenv('MY_AWS_ACCESS_KEY_ID'),\n",
    "    aws_secret_access_key=os.getenv('MY_AWS_SECRET_ACCESS_KEY'),\n",
    "    aws_session_token=os.getenv('MY_AWS_SESSION_TOKEN')\n",
    ")"
   ]
  },
  {
   "cell_type": "code",
   "execution_count": 14,
   "id": "ddd34105-f75c-4231-a28f-5f98af52511c",
   "metadata": {},
   "outputs": [
    {
     "name": "stdout",
     "output_type": "stream",
     "text": [
      "CSV file uploaded to s3://stilesdata.com/survivor/survivor_vote_off_reactions.csv\n"
     ]
    }
   ],
   "source": [
    "# Upload the CSV file\n",
    "s3_client.upload_file(str(csv_output_path), s3_bucket, s3_csv_key)\n",
    "print(f\"CSV file uploaded to s3://{s3_bucket}/{s3_csv_key}\")"
   ]
  },
  {
   "cell_type": "code",
   "execution_count": 15,
   "id": "ccc5e7e2-5acf-4363-89e1-3bd35b08407a",
   "metadata": {},
   "outputs": [
    {
     "name": "stdout",
     "output_type": "stream",
     "text": [
      "JSON file uploaded to s3://stilesdata.com/survivor/survivor_vote_off_reactions.json\n"
     ]
    }
   ],
   "source": [
    "# Upload the JSON file\n",
    "s3_client.upload_file(str(json_output_path), s3_bucket, s3_json_key)\n",
    "print(f\"JSON file uploaded to s3://{s3_bucket}/{s3_json_key}\")"
   ]
  }
 ],
 "metadata": {
  "kernelspec": {
   "display_name": "Python 3 (ipykernel)",
   "language": "python",
   "name": "python3"
  },
  "language_info": {
   "codemirror_mode": {
    "name": "ipython",
    "version": 3
   },
   "file_extension": ".py",
   "mimetype": "text/x-python",
   "name": "python",
   "nbconvert_exporter": "python",
   "pygments_lexer": "ipython3",
   "version": "3.9.15"
  }
 },
 "nbformat": 4,
 "nbformat_minor": 5
}
