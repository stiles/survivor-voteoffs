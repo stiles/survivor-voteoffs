{
 "cells": [
  {
   "cell_type": "markdown",
   "id": "0fdd4e16-e062-4146-9c40-05a340ecc972",
   "metadata": {},
   "source": [
    "# Suvivor voteoff reactions, by season\n",
    "> How did contestants in different season respond after their torches were snuffed? This notebook calculates the season average score for how often voted-off castaways asknowledged their tribe mates by looking, smiling, gesturing or speaking. "
   ]
  },
  {
   "cell_type": "markdown",
   "id": "2cd6a4cf-3892-4cc9-97de-84f87dc86d7d",
   "metadata": {},
   "source": [
    "#### Load Python tools and Jupyter config"
   ]
  },
  {
   "cell_type": "code",
   "execution_count": 21,
   "id": "a7351614-bd07-4dae-9e16-da1fe9977caa",
   "metadata": {},
   "outputs": [],
   "source": [
    "import os\n",
    "import json\n",
    "import boto3\n",
    "import pandas as pd\n",
    "import jupyter_black"
   ]
  },
  {
   "cell_type": "code",
   "execution_count": 22,
   "id": "c41d7b0f-d4cc-44da-8779-feac247bef8e",
   "metadata": {},
   "outputs": [],
   "source": [
    "jupyter_black.load()\n",
    "pd.options.display.max_columns = 100\n",
    "pd.options.display.max_rows = 1000"
   ]
  },
  {
   "cell_type": "markdown",
   "id": "ad51cd4c-dd75-408a-9129-cbc29dd5c8d3",
   "metadata": {},
   "source": [
    "---"
   ]
  },
  {
   "cell_type": "markdown",
   "id": "866b929a-db8a-48d9-8765-4fea94d798d4",
   "metadata": {},
   "source": [
    "## Fetch"
   ]
  },
  {
   "cell_type": "markdown",
   "id": "9c06a7be-47e7-4f27-90a1-7495860a461b",
   "metadata": {},
   "source": [
    "#### Read season summary from [survivoR2py](https://github.com/stiles/survivoR2py/tree/main) repo"
   ]
  },
  {
   "cell_type": "code",
   "execution_count": 78,
   "id": "a861288e-a700-4fb3-917c-b1f0fd416d0d",
   "metadata": {},
   "outputs": [],
   "source": [
    "season_summary_src = pd.read_csv(\n",
    "    \"https://raw.githubusercontent.com/stiles/survivoR2py/main/data/raw/csv/season_summary.csv\"\n",
    ")"
   ]
  },
  {
   "cell_type": "code",
   "execution_count": 79,
   "id": "8d22f334-7eba-4f5d-bca9-eefa1417c091",
   "metadata": {},
   "outputs": [],
   "source": [
    "us_summary_df = season_summary_src.query('version == \"US\"')[\n",
    "    [\"season\", \"season_name\", \"location\", \"tribe_setup\", \"n_cast\", \"winner_id\"]\n",
    "].copy()"
   ]
  },
  {
   "cell_type": "code",
   "execution_count": 80,
   "id": "99d39694-4ae8-4237-99e4-c99e3275a998",
   "metadata": {},
   "outputs": [],
   "source": [
    "us_summary_df[\"season\"] = us_summary_df[\"season\"].astype(str).str.replace(\".0\", \"\")"
   ]
  },
  {
   "cell_type": "markdown",
   "id": "0904b20f-1e2d-4994-bf3c-f51a34907559",
   "metadata": {},
   "source": [
    "#### Read castaway details from [survivoR2py](https://github.com/stiles/survivoR2py/tree/main) repo"
   ]
  },
  {
   "cell_type": "code",
   "execution_count": 81,
   "id": "c04780b1-211b-4a8a-91f5-2fe170dbc35f",
   "metadata": {},
   "outputs": [],
   "source": [
    "castaway_details_src = pd.read_csv(\n",
    "    \"https://raw.githubusercontent.com/stiles/survivoR2py/main/data/raw/csv/castaway_details.csv\"\n",
    ")"
   ]
  },
  {
   "cell_type": "code",
   "execution_count": 82,
   "id": "dbd8ca34-12ec-487c-b5b3-64bdadd292a6",
   "metadata": {},
   "outputs": [],
   "source": [
    "castaway_details_src[\"version\"] = castaway_details_src.castaway_id.str[:2]"
   ]
  },
  {
   "cell_type": "code",
   "execution_count": null,
   "id": "cf2dce9f-5afc-490e-a76a-5c4df5e23e1a",
   "metadata": {},
   "outputs": [],
   "source": [
    "castaway_details_df = castaway_details_src.query('version == \"US\"').copy()"
   ]
  },
  {
   "cell_type": "code",
   "execution_count": 95,
   "id": "279ac205-11b3-467d-9eed-51d6d8d27d30",
   "metadata": {},
   "outputs": [
    {
     "data": {
      "text/plain": [
       "Index(['castaway_id', 'full_name', 'full_name_detailed', 'castaway',\n",
       "       'date_of_birth', 'date_of_death', 'gender', 'african', 'asian',\n",
       "       'latin_american', 'native_american', 'bipoc', 'lgbt',\n",
       "       'personality_type', 'occupation', 'three_words', 'hobbies',\n",
       "       'pet_peeves', 'race', 'ethnicity', 'version'],\n",
       "      dtype='object')"
      ]
     },
     "execution_count": 95,
     "metadata": {},
     "output_type": "execute_result"
    }
   ],
   "source": [
    "castaway_details_df.columns"
   ]
  },
  {
   "cell_type": "markdown",
   "id": "76f812b6-1d46-4ed8-9304-4f1081b4160f",
   "metadata": {},
   "source": [
    "#### Read vote off log"
   ]
  },
  {
   "cell_type": "code",
   "execution_count": null,
   "id": "8d58489c-3eaa-47ec-9041-cc7368f51359",
   "metadata": {},
   "outputs": [],
   "source": [
    "voteoff_df = pd.read_json(\n",
    "    \"https://stilesdata.com/survivor/survivor_vote_off_reactions.json\",\n",
    "    dtype={\"season\": str, \"vote\": str, \"episode\": str},\n",
    ")"
   ]
  },
  {
   "cell_type": "code",
   "execution_count": 100,
   "id": "91362491-6c73-428b-8cd5-6cca0105f3f2",
   "metadata": {},
   "outputs": [],
   "source": [
    "voteoff_merged = pd.merge(voteoff_df, us_summary_df, on=\"season\")\n",
    "voteoff_merged_df = pd.merge(\n",
    "    voteoff_merged,\n",
    "    castaway_details_df[\n",
    "        [\n",
    "            \"castaway_id\",\n",
    "            \"full_name\",\n",
    "            \"date_of_birth\",\n",
    "            \"gender\",\n",
    "            \"personality_type\",\n",
    "            \"occupation\",\n",
    "        ]\n",
    "    ],\n",
    "    on=\"castaway_id\",\n",
    ")"
   ]
  },
  {
   "cell_type": "markdown",
   "id": "83ac0cdd-a1d3-4b68-bd46-0328ccb3ae63",
   "metadata": {},
   "source": [
    "---"
   ]
  },
  {
   "cell_type": "markdown",
   "id": "56818153-35fd-4c43-a502-c2c94cfbfc94",
   "metadata": {},
   "source": [
    "## Aggregate"
   ]
  },
  {
   "cell_type": "code",
   "execution_count": 117,
   "id": "49b99c69-7452-47c6-8dae-2a2e01e52b8a",
   "metadata": {},
   "outputs": [],
   "source": [
    "gender_scores = (\n",
    "    (\n",
    "        voteoff_merged_df.groupby([\"gender\"])\n",
    "        .agg({\"castaway_id\": \"count\", \"ack_score\": \"mean\"})\n",
    "        .round(2)\n",
    "    )\n",
    "    .reset_index()\n",
    "    .rename(columns={\"castaway_id\": \"count\", \"ack_score\": \"mean_score\"})\n",
    ")"
   ]
  },
  {
   "cell_type": "code",
   "execution_count": 118,
   "id": "cca98a25-901e-47fc-85f6-779873734527",
   "metadata": {},
   "outputs": [
    {
     "data": {
      "text/html": [
       "<div>\n",
       "<style scoped>\n",
       "    .dataframe tbody tr th:only-of-type {\n",
       "        vertical-align: middle;\n",
       "    }\n",
       "\n",
       "    .dataframe tbody tr th {\n",
       "        vertical-align: top;\n",
       "    }\n",
       "\n",
       "    .dataframe thead th {\n",
       "        text-align: right;\n",
       "    }\n",
       "</style>\n",
       "<table border=\"1\" class=\"dataframe\">\n",
       "  <thead>\n",
       "    <tr style=\"text-align: right;\">\n",
       "      <th></th>\n",
       "      <th>gender</th>\n",
       "      <th>count</th>\n",
       "      <th>mean_score</th>\n",
       "    </tr>\n",
       "  </thead>\n",
       "  <tbody>\n",
       "    <tr>\n",
       "      <th>0</th>\n",
       "      <td>Female</td>\n",
       "      <td>353</td>\n",
       "      <td>1.70</td>\n",
       "    </tr>\n",
       "    <tr>\n",
       "      <th>1</th>\n",
       "      <td>Male</td>\n",
       "      <td>339</td>\n",
       "      <td>1.68</td>\n",
       "    </tr>\n",
       "    <tr>\n",
       "      <th>2</th>\n",
       "      <td>Non-binary</td>\n",
       "      <td>1</td>\n",
       "      <td>3.00</td>\n",
       "    </tr>\n",
       "  </tbody>\n",
       "</table>\n",
       "</div>"
      ],
      "text/plain": [
       "       gender  count  mean_score\n",
       "0      Female    353        1.70\n",
       "1        Male    339        1.68\n",
       "2  Non-binary      1        3.00"
      ]
     },
     "execution_count": 118,
     "metadata": {},
     "output_type": "execute_result"
    }
   ],
   "source": [
    "gender_scores"
   ]
  },
  {
   "cell_type": "code",
   "execution_count": null,
   "id": "1c36f161-9f08-474e-b6cc-d6fc4ef7156c",
   "metadata": {},
   "outputs": [],
   "source": []
  },
  {
   "cell_type": "code",
   "execution_count": null,
   "id": "b5d38271-6e3e-4690-882e-412db613cc6b",
   "metadata": {},
   "outputs": [],
   "source": []
  },
  {
   "cell_type": "code",
   "execution_count": null,
   "id": "3671b932-4de0-4ef7-9b3d-bcf7a3b8dbca",
   "metadata": {},
   "outputs": [],
   "source": []
  },
  {
   "cell_type": "code",
   "execution_count": null,
   "id": "011bda62-517e-4ec2-a63c-8ed26b5afcce",
   "metadata": {},
   "outputs": [],
   "source": []
  },
  {
   "cell_type": "code",
   "execution_count": null,
   "id": "e15e2b83-74bc-4f47-9fc2-97d4257b9f27",
   "metadata": {},
   "outputs": [],
   "source": []
  },
  {
   "cell_type": "code",
   "execution_count": null,
   "id": "7fbd8f5f-cd92-495d-87ec-66fae57ff42e",
   "metadata": {},
   "outputs": [],
   "source": []
  },
  {
   "cell_type": "markdown",
   "id": "ddf92a11-5830-4927-9cb6-f82e04c050ba",
   "metadata": {},
   "source": [
    "#### Mean score over the life of the series"
   ]
  },
  {
   "cell_type": "code",
   "execution_count": 37,
   "id": "f004ec5b-9c09-48df-8120-37cf62fda50e",
   "metadata": {},
   "outputs": [],
   "source": [
    "series_score = round(float(voteoff_merged_df[\"ack_score\"].mean()), 2)"
   ]
  },
  {
   "cell_type": "markdown",
   "id": "c7755211-0769-4933-9b0e-9f5368073c51",
   "metadata": {},
   "source": [
    "#### Mean score by season"
   ]
  },
  {
   "cell_type": "code",
   "execution_count": null,
   "id": "cf673f70-566f-4a5c-8034-bf97ee471413",
   "metadata": {},
   "outputs": [],
   "source": [
    "season_scores = (\n",
    "    voteoff_merged_df.groupby([\"season\", \"season_name\", \"tribe_setup\"])[\"ack_score\"]\n",
    "    .mean()\n",
    "    .round(2)\n",
    "    .reset_index(name=\"mean_ack_score\")\n",
    ")"
   ]
  },
  {
   "cell_type": "code",
   "execution_count": null,
   "id": "7e9832f4-7642-4c8b-9490-592322100ee8",
   "metadata": {},
   "outputs": [],
   "source": [
    "season_scores[\"series_score\"] = series_score"
   ]
  },
  {
   "cell_type": "markdown",
   "id": "6b53e784-4eee-4b00-a850-8a6580176571",
   "metadata": {},
   "source": [
    "#### Negative score = less acknowledgement in a season"
   ]
  },
  {
   "cell_type": "code",
   "execution_count": null,
   "id": "43c5d8ba-ebbb-4d35-83e6-0edcaae21210",
   "metadata": {},
   "outputs": [],
   "source": [
    "season_scores[\"season_score_diff\"] = (\n",
    "    season_scores[\"mean_ack_score\"] - season_scores[\"series_score\"]\n",
    ")"
   ]
  },
  {
   "cell_type": "markdown",
   "id": "ae2b2a67-0de9-4481-8ad6-9a5ffb96cab6",
   "metadata": {},
   "source": [
    "#### Highest acknowledgement"
   ]
  },
  {
   "cell_type": "code",
   "execution_count": null,
   "id": "8920cb51-a9db-47bb-aff6-4e9fe9bf1144",
   "metadata": {},
   "outputs": [
    {
     "data": {
      "text/html": [
       "<div>\n",
       "<style scoped>\n",
       "    .dataframe tbody tr th:only-of-type {\n",
       "        vertical-align: middle;\n",
       "    }\n",
       "\n",
       "    .dataframe tbody tr th {\n",
       "        vertical-align: top;\n",
       "    }\n",
       "\n",
       "    .dataframe thead th {\n",
       "        text-align: right;\n",
       "    }\n",
       "</style>\n",
       "<table border=\"1\" class=\"dataframe\">\n",
       "  <thead>\n",
       "    <tr style=\"text-align: right;\">\n",
       "      <th></th>\n",
       "      <th>season</th>\n",
       "      <th>season_name</th>\n",
       "      <th>tribe_setup</th>\n",
       "      <th>mean_ack_score</th>\n",
       "      <th>series_score</th>\n",
       "      <th>season_score_diff</th>\n",
       "    </tr>\n",
       "  </thead>\n",
       "  <tbody>\n",
       "    <tr>\n",
       "      <th>7</th>\n",
       "      <td>16</td>\n",
       "      <td>Survivor: Micronesia</td>\n",
       "      <td>Two tribes of ten: new players against past co...</td>\n",
       "      <td>2.93</td>\n",
       "      <td>1.69</td>\n",
       "      <td>1.24</td>\n",
       "    </tr>\n",
       "    <tr>\n",
       "      <th>31</th>\n",
       "      <td>38</td>\n",
       "      <td>Survivor: Edge of Extinction</td>\n",
       "      <td>Two tribes of nine, including four returning p...</td>\n",
       "      <td>2.88</td>\n",
       "      <td>1.69</td>\n",
       "      <td>1.19</td>\n",
       "    </tr>\n",
       "    <tr>\n",
       "      <th>36</th>\n",
       "      <td>42</td>\n",
       "      <td>Survivor: 42</td>\n",
       "      <td>Three tribes of 6 new players. This season was...</td>\n",
       "      <td>2.71</td>\n",
       "      <td>1.69</td>\n",
       "      <td>1.02</td>\n",
       "    </tr>\n",
       "    <tr>\n",
       "      <th>41</th>\n",
       "      <td>5</td>\n",
       "      <td>Survivor: Thailand</td>\n",
       "      <td>Two tribes of eight new players; picked by the...</td>\n",
       "      <td>2.71</td>\n",
       "      <td>1.69</td>\n",
       "      <td>1.02</td>\n",
       "    </tr>\n",
       "    <tr>\n",
       "      <th>38</th>\n",
       "      <td>44</td>\n",
       "      <td>Survivor: 44</td>\n",
       "      <td>Three tribes of 18 new castaways</td>\n",
       "      <td>2.69</td>\n",
       "      <td>1.69</td>\n",
       "      <td>1.00</td>\n",
       "    </tr>\n",
       "  </tbody>\n",
       "</table>\n",
       "</div>"
      ],
      "text/plain": [
       "   season                   season_name  \\\n",
       "7      16          Survivor: Micronesia   \n",
       "31     38  Survivor: Edge of Extinction   \n",
       "36     42                  Survivor: 42   \n",
       "41      5            Survivor: Thailand   \n",
       "38     44                  Survivor: 44   \n",
       "\n",
       "                                          tribe_setup  mean_ack_score  \\\n",
       "7   Two tribes of ten: new players against past co...            2.93   \n",
       "31  Two tribes of nine, including four returning p...            2.88   \n",
       "36  Three tribes of 6 new players. This season was...            2.71   \n",
       "41  Two tribes of eight new players; picked by the...            2.71   \n",
       "38                   Three tribes of 18 new castaways            2.69   \n",
       "\n",
       "    series_score  season_score_diff  \n",
       "7           1.69               1.24  \n",
       "31          1.69               1.19  \n",
       "36          1.69               1.02  \n",
       "41          1.69               1.02  \n",
       "38          1.69               1.00  "
      ]
     },
     "execution_count": 44,
     "metadata": {},
     "output_type": "execute_result"
    }
   ],
   "source": [
    "season_scores.sort_values(\"season_score_diff\", ascending=False).head()"
   ]
  },
  {
   "cell_type": "markdown",
   "id": "a6ed1cdd-c501-4e91-b536-7279da0bb623",
   "metadata": {},
   "source": [
    "#### Lowest acknowledgement"
   ]
  },
  {
   "cell_type": "code",
   "execution_count": null,
   "id": "5ffd775d-80c4-4665-9b0e-87a27ca99545",
   "metadata": {},
   "outputs": [],
   "source": [
    "season_scores.sort_values(\"season_score_diff\", ascending=False).tail()"
   ]
  },
  {
   "cell_type": "code",
   "execution_count": null,
   "id": "b87e528d-a7a4-48eb-afa3-6c66aad48666",
   "metadata": {},
   "outputs": [],
   "source": []
  },
  {
   "cell_type": "code",
   "execution_count": null,
   "id": "fe6ccf0a-51c0-4ce9-b6e7-b691f4e091d2",
   "metadata": {},
   "outputs": [],
   "source": [
    "gender_scores = (\n",
    "    voteoff_merged_df.groupby([\"season\", \"season_name\", \"tribe_setup\"])[\"ack_score\"]\n",
    "    .mean()\n",
    "    .round(2)\n",
    "    .reset_index(name=\"mean_ack_score\")\n",
    ")"
   ]
  },
  {
   "cell_type": "code",
   "execution_count": null,
   "id": "b072b9d8-d8aa-4ff4-a9ff-faa8180122d8",
   "metadata": {},
   "outputs": [],
   "source": [
    "voteoff_merged_df.head()"
   ]
  },
  {
   "cell_type": "code",
   "execution_count": null,
   "id": "96438923-3c23-47ed-a8ec-dbc24b3a799e",
   "metadata": {},
   "outputs": [],
   "source": []
  },
  {
   "cell_type": "code",
   "execution_count": null,
   "id": "6498d746-c47f-4c0e-97a8-05a4a1dcf114",
   "metadata": {},
   "outputs": [],
   "source": []
  },
  {
   "cell_type": "code",
   "execution_count": null,
   "id": "27671e54-d879-4a99-bd4c-50808de452f2",
   "metadata": {},
   "outputs": [],
   "source": []
  },
  {
   "cell_type": "code",
   "execution_count": null,
   "id": "0d388159-f8fe-4212-955e-b87d96f8aae3",
   "metadata": {},
   "outputs": [],
   "source": []
  },
  {
   "cell_type": "markdown",
   "id": "9b2180f4-6fa0-4c58-ba7c-85082ca9e132",
   "metadata": {},
   "source": [
    "---"
   ]
  },
  {
   "cell_type": "markdown",
   "id": "ee1c2826-1c3e-4718-a2c0-425954beb45b",
   "metadata": {},
   "source": [
    "## Export"
   ]
  },
  {
   "cell_type": "code",
   "execution_count": 12,
   "id": "8294a725-c46b-4116-a25a-79472f299550",
   "metadata": {},
   "outputs": [],
   "source": [
    "# Output paths\n",
    "csv_output_path = \"../data/processed/survivor_voteoff_ack_scores_seasons.csv\"\n",
    "json_output_path = \"../data/processed/survivor_voteoff_ack_scores_seasons.json\""
   ]
  },
  {
   "cell_type": "code",
   "execution_count": 16,
   "id": "3a4388ae-9078-4b7c-a7e8-fd482267b20e",
   "metadata": {},
   "outputs": [],
   "source": [
    "# Save season scores to CSV\n",
    "season_scores.to_csv(csv_output_path, index=False)"
   ]
  },
  {
   "cell_type": "code",
   "execution_count": 17,
   "id": "457f45a1-cc07-4022-9bfe-0722fec85d83",
   "metadata": {},
   "outputs": [],
   "source": [
    "# Save season scores to JSON\n",
    "season_scores.to_json(json_output_path, orient=\"records\", indent=4)"
   ]
  },
  {
   "cell_type": "code",
   "execution_count": 18,
   "id": "ecc78fc1-f5fd-441d-afb4-f27e5ac902e8",
   "metadata": {},
   "outputs": [],
   "source": [
    "# Upload CSV and JSON to S3\n",
    "s3_bucket = \"stilesdata.com\"\n",
    "s3_csv_key = \"survivor/survivor_voteoff_ack_scores_seasons.csv\"\n",
    "s3_json_key = \"survivor/survivor_voteoff_ack_scores_seasons.json\"\n",
    "\n",
    "# Initialize boto3 client with environment variables\n",
    "s3_client = boto3.client(\n",
    "    \"s3\",\n",
    "    aws_access_key_id=os.getenv(\"MY_AWS_ACCESS_KEY_ID\"),\n",
    "    aws_secret_access_key=os.getenv(\"MY_AWS_SECRET_ACCESS_KEY\"),\n",
    "    aws_session_token=os.getenv(\"MY_AWS_SESSION_TOKEN\"),\n",
    ")"
   ]
  },
  {
   "cell_type": "code",
   "execution_count": 19,
   "id": "ddd34105-f75c-4231-a28f-5f98af52511c",
   "metadata": {},
   "outputs": [
    {
     "name": "stdout",
     "output_type": "stream",
     "text": [
      "CSV file uploaded to s3://stilesdata.com/survivor/survivor_voteoff_ack_scores_seasons.csv\n"
     ]
    }
   ],
   "source": [
    "# Upload the CSV file\n",
    "s3_client.upload_file(str(csv_output_path), s3_bucket, s3_csv_key)\n",
    "print(f\"CSV file uploaded to s3://{s3_bucket}/{s3_csv_key}\")"
   ]
  },
  {
   "cell_type": "code",
   "execution_count": 20,
   "id": "ccc5e7e2-5acf-4363-89e1-3bd35b08407a",
   "metadata": {},
   "outputs": [
    {
     "name": "stdout",
     "output_type": "stream",
     "text": [
      "JSON file uploaded to s3://stilesdata.com/survivor/survivor_voteoff_ack_scores_seasons.json\n"
     ]
    }
   ],
   "source": [
    "# Upload the JSON file\n",
    "s3_client.upload_file(str(json_output_path), s3_bucket, s3_json_key)\n",
    "print(f\"JSON file uploaded to s3://{s3_bucket}/{s3_json_key}\")"
   ]
  }
 ],
 "metadata": {
  "kernelspec": {
   "display_name": "Python 3 (ipykernel)",
   "language": "python",
   "name": "python3"
  },
  "language_info": {
   "codemirror_mode": {
    "name": "ipython",
    "version": 3
   },
   "file_extension": ".py",
   "mimetype": "text/x-python",
   "name": "python",
   "nbconvert_exporter": "python",
   "pygments_lexer": "ipython3",
   "version": "3.9.15"
  }
 },
 "nbformat": 4,
 "nbformat_minor": 5
}
